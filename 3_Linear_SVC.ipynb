{
 "cells": [
  {
   "cell_type": "markdown",
   "metadata": {},
   "source": [
    "# Support Vector Machine(Classification)"
   ]
  },
  {
   "cell_type": "markdown",
   "metadata": {},
   "source": [
    "Definition:\n",
    "\n",
    "- 支持向量机分类器：根据训练样本的分布搜索所有可能的线性分类器中最佳的一个（因此它不一定是“最佳的”，因为最佳还要看测试集）。\n",
    "\n",
    "\n",
    "- 支持向量：决定直线位置（线性分类器）的是不同空间间隔最小的不同分类的数据点。这种真正帮助决策最优线性分类模型的数据点才是支持向量。注意点也是向量。**相比Logistic，它并未考虑全部数据点**。"
   ]
  },
  {
   "cell_type": "markdown",
   "metadata": {},
   "source": [
    "# 手写体数码图像识别"
   ]
  },
  {
   "cell_type": "markdown",
   "metadata": {},
   "source": [
    "The first step: read the data."
   ]
  },
  {
   "cell_type": "code",
   "execution_count": 2,
   "metadata": {},
   "outputs": [
    {
     "name": "stdout",
     "output_type": "stream",
     "text": [
      "(1797L, 64L)\n"
     ]
    }
   ],
   "source": [
    "# from Sklearn import 手写体数字加载器\n",
    "from sklearn.datasets import load_digits\n",
    "\n",
    "# save the data\n",
    "digits = load_digits()\n",
    "\n",
    "# see the shape\n",
    "print digits.data.shape\n",
    "# cannot ignore the 'data.', which is an attribute error, though"
   ]
  },
  {
   "cell_type": "markdown",
   "metadata": {},
   "source": [
    "* 这个意思是图像数据有1797条，每幅图由8\\*8=64的像素矩阵表示。\n",
    "\n",
    "\n",
    "* 一般处理这种像素矩阵时，逐行首尾拼接成1维像素特征向量。因此会损失结构信息。不过下面的SVM学不了结构信息，所以就不管了。"
   ]
  },
  {
   "cell_type": "markdown",
   "metadata": {},
   "source": [
    "The Second step: split the data into two parts."
   ]
  },
  {
   "cell_type": "code",
   "execution_count": 3,
   "metadata": {},
   "outputs": [
    {
     "name": "stdout",
     "output_type": "stream",
     "text": [
      "(1347L,)\n",
      "(450L,)\n"
     ]
    },
    {
     "name": "stderr",
     "output_type": "stream",
     "text": [
      "C:\\Users\\Administrator\\Anaconda2\\lib\\site-packages\\sklearn\\cross_validation.py:41: DeprecationWarning: This module was deprecated in version 0.18 in favor of the model_selection module into which all the refactored classes and functions are moved. Also note that the interface of the new CV iterators are different from that of this module. This module will be removed in 0.20.\n",
      "  \"This module will be removed in 0.20.\", DeprecationWarning)\n"
     ]
    }
   ],
   "source": [
    "from sklearn.cross_validation import train_test_split\n",
    "X_train, X_test, y_train, y_test = train_test_split(digits.data, digits.target, test_size = 0.25, random_state = 33)\n",
    "\n",
    "print y_train.shape\n",
    "print y_test.shape"
   ]
  },
  {
   "cell_type": "markdown",
   "metadata": {},
   "source": [
    "The third step: use SVM."
   ]
  },
  {
   "cell_type": "code",
   "execution_count": 4,
   "metadata": {},
   "outputs": [],
   "source": [
    "# import Standardization mode\n",
    "from sklearn.preprocessing import StandardScaler\n",
    "ss = StandardScaler()\n",
    "X_train = ss.fit_transform(X_train)\n",
    "X_test = ss.fit_transform(X_test)\n",
    "\n",
    "# import LinearSVC\n",
    "from sklearn.svm import LinearSVC\n",
    "lsvc = LinearSVC()\n",
    "\n",
    "# train the model\n",
    "lsvc.fit(X_train, y_train)\n",
    "\n",
    "# predict\n",
    "y_predict = lsvc.predict(X_test)"
   ]
  },
  {
   "cell_type": "markdown",
   "metadata": {},
   "source": [
    "The fourth step: Accuracy, Recall, Precison and F1 score."
   ]
  },
  {
   "cell_type": "code",
   "execution_count": 5,
   "metadata": {},
   "outputs": [
    {
     "name": "stdout",
     "output_type": "stream",
     "text": [
      "The Accuracy of Linear SVC is 0.9488888888888889\n",
      "             precision    recall  f1-score   support\n",
      "\n",
      "          0       0.92      0.97      0.94        35\n",
      "          1       0.95      0.98      0.96        54\n",
      "          2       0.98      1.00      0.99        44\n",
      "          3       0.93      0.93      0.93        46\n",
      "          4       0.97      1.00      0.99        35\n",
      "          5       0.94      0.94      0.94        48\n",
      "          6       0.96      0.98      0.97        51\n",
      "          7       0.90      1.00      0.95        35\n",
      "          8       0.98      0.83      0.90        58\n",
      "          9       0.95      0.91      0.93        44\n",
      "\n",
      "avg / total       0.95      0.95      0.95       450\n",
      "\n"
     ]
    }
   ],
   "source": [
    "# default evaluation\n",
    "print 'The Accuracy of Linear SVC is', lsvc.score(X_test, y_test)\n",
    "\n",
    "# use classification_report in sklearn.metrics\n",
    "from sklearn.metrics import classification_report\n",
    "print classification_report(y_test, y_predict, target_names = digits.target_names.astype(str))"
   ]
  },
  {
   "cell_type": "markdown",
   "metadata": {},
   "source": [
    "* 注意这里本来那些指标是用于二分类任务的，这里则对于分类目标类别较多时，逐一评估某类别的三个性能指标，创造多个二分类任务。\n",
    "\n",
    "\n",
    "* SVM选择的样本是支持向量，节省学习需要的内存，提高了预测性能；但是付出了更多的CPU和计算时间。"
   ]
  }
 ],
 "metadata": {
  "kernelspec": {
   "display_name": "Python 2",
   "language": "python",
   "name": "python2"
  },
  "language_info": {
   "codemirror_mode": {
    "name": "ipython",
    "version": 2
   },
   "file_extension": ".py",
   "mimetype": "text/x-python",
   "name": "python",
   "nbconvert_exporter": "python",
   "pygments_lexer": "ipython2",
   "version": "2.7.15"
  }
 },
 "nbformat": 4,
 "nbformat_minor": 2
}
