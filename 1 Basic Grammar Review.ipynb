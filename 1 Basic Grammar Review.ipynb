{
 "cells": [
  {
   "cell_type": "markdown",
   "metadata": {},
   "source": [
    "# This Is My Python Review from Kaggle Python Training Book"
   ]
  },
  {
   "cell_type": "markdown",
   "metadata": {},
   "source": [
    "### First I wanna review some basic python grammer which I'm not familliar with."
   ]
  },
  {
   "cell_type": "code",
   "execution_count": 10,
   "metadata": {
    "scrolled": true
   },
   "outputs": [
    {
     "name": "stdout",
     "output_type": "stream",
     "text": [
      "1\n",
      "abc\n",
      "c\n"
     ]
    }
   ],
   "source": [
    "# Now is the distinction of Turple, List, and Dictionanry.\n",
    "\n",
    "# Give a turple to t\n",
    "\n",
    "t = (1, 'abc', \"c\")\n",
    "\n",
    "# Output t's element\n",
    "\n",
    "print(t[0])\n",
    "\n",
    "print(t[1])\n",
    "\n",
    "print(t[2])\n",
    "\n",
    "# Turple cannot be changed\n",
    "\n",
    "# t = (1, 'abc', c)\n",
    "# NameError: name 'c' is not defined"
   ]
  },
  {
   "cell_type": "code",
   "execution_count": 11,
   "metadata": {},
   "outputs": [
    {
     "name": "stdout",
     "output_type": "stream",
     "text": [
      "1\n",
      "abc\n",
      "c\n"
     ]
    }
   ],
   "source": [
    "# Then is list, with its cracket different\n",
    "\n",
    "# Give a list to l\n",
    "\n",
    "l = [1, 'abc', \"c\"]\n",
    "\n",
    "# Output t's element\n",
    "\n",
    "print(l[0])\n",
    "\n",
    "print(l[1])\n",
    "\n",
    "print(l[2])\n",
    "\n",
    "# List can be changed"
   ]
  },
  {
   "cell_type": "code",
   "execution_count": 12,
   "metadata": {},
   "outputs": [
    {
     "name": "stdout",
     "output_type": "stream",
     "text": [
      "1\n",
      "abc\n"
     ]
    }
   ],
   "source": [
    "# Dictionary: key and value\n",
    "\n",
    "# Give a dictionary to d\n",
    "\n",
    "d = {1:'1', 'abc':'abc', \"c\":\"c\"}\n",
    "\n",
    "print(d[1])\n",
    "\n",
    "print(d['abc'])"
   ]
  },
  {
   "cell_type": "markdown",
   "metadata": {},
   "source": [
    "### Second is some import ways"
   ]
  },
  {
   "cell_type": "code",
   "execution_count": 15,
   "metadata": {},
   "outputs": [
    {
     "data": {
      "text/plain": [
       "7.38905609893065"
      ]
     },
     "execution_count": 15,
     "metadata": {},
     "output_type": "execute_result"
    }
   ],
   "source": [
    "import math\n",
    "\n",
    "math.exp(2)"
   ]
  },
  {
   "cell_type": "code",
   "execution_count": 16,
   "metadata": {},
   "outputs": [
    {
     "data": {
      "text/plain": [
       "7.38905609893065"
      ]
     },
     "execution_count": 16,
     "metadata": {},
     "output_type": "execute_result"
    }
   ],
   "source": [
    "from math import exp\n",
    "\n",
    "exp(2)"
   ]
  },
  {
   "cell_type": "code",
   "execution_count": 17,
   "metadata": {},
   "outputs": [
    {
     "data": {
      "text/plain": [
       "7.38905609893065"
      ]
     },
     "execution_count": 17,
     "metadata": {},
     "output_type": "execute_result"
    }
   ],
   "source": [
    "from math import exp as ep\n",
    "\n",
    "ep(2)"
   ]
  }
 ],
 "metadata": {
  "kernelspec": {
   "display_name": "Python 2",
   "language": "python",
   "name": "python2"
  },
  "language_info": {
   "codemirror_mode": {
    "name": "ipython",
    "version": 2
   },
   "file_extension": ".py",
   "mimetype": "text/x-python",
   "name": "python",
   "nbconvert_exporter": "python",
   "pygments_lexer": "ipython2",
   "version": "2.7.15"
  }
 },
 "nbformat": 4,
 "nbformat_minor": 2
}
